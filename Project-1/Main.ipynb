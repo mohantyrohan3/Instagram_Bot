{
 "cells": [
  {
   "cell_type": "markdown",
   "id": "a4179959",
   "metadata": {},
   "source": [
    "# Instagram Bot"
   ]
  },
  {
   "cell_type": "code",
   "execution_count": 12,
   "id": "90bd25dc",
   "metadata": {},
   "outputs": [],
   "source": [
    "# First opening Instagram\n",
    "\n",
    "from selenium import webdriver\n",
    "import warnings\n",
    "warnings.filterwarnings(\"ignore\", category=DeprecationWarning)\n",
    "\n",
    "\n",
    "driver=webdriver.Chrome(\"C:\\Webdriver Chrome\\chromedriver.exe\")\n",
    "driver.get('https://www.instagram.com/')"
   ]
  },
  {
   "cell_type": "markdown",
   "id": "fb63ca46",
   "metadata": {},
   "source": [
    "## 1. Login to your Instagram Handle"
   ]
  },
  {
   "cell_type": "code",
   "execution_count": 13,
   "id": "8cf4da92",
   "metadata": {},
   "outputs": [],
   "source": [
    "driver.find_element_by_xpath('//*[@id=\"loginForm\"]/div/div[1]/div/label/input').send_keys('foodie3rohan')\n",
    "driver.find_element_by_xpath('//*[@id=\"loginForm\"]/div/div[2]/div/label/input').send_keys('Rohan@12345')\n",
    "driver.find_element_by_xpath('//*[@id=\"loginForm\"]/div/div[3]/button').click()"
   ]
  },
  {
   "cell_type": "code",
   "execution_count": 15,
   "id": "1311973e",
   "metadata": {
    "collapsed": true
   },
   "outputs": [
    {
     "ename": "NoSuchElementException",
     "evalue": "Message: no such element: Unable to locate element: {\"method\":\"xpath\",\"selector\":\"//*[@id=\"mount_0_0_3N\"]/div/div/div/div[2]/div/div/div[1]/div/div[2]/div/div/div/div/div[2]/div/div/div[3]/button[2]\"}\n  (Session info: chrome=105.0.5195.126)\nStacktrace:\nBacktrace:\n\tOrdinal0 [0x0073DF13+2219795]\n\tOrdinal0 [0x006D2841+1779777]\n\tOrdinal0 [0x005E423D+803389]\n\tOrdinal0 [0x00613025+995365]\n\tOrdinal0 [0x006131EB+995819]\n\tOrdinal0 [0x00640F52+1183570]\n\tOrdinal0 [0x0062E844+1108036]\n\tOrdinal0 [0x0063F192+1175954]\n\tOrdinal0 [0x0062E616+1107478]\n\tOrdinal0 [0x00607F89+950153]\n\tOrdinal0 [0x00608F56+954198]\n\tGetHandleVerifier [0x00A32CB2+3040210]\n\tGetHandleVerifier [0x00A22BB4+2974420]\n\tGetHandleVerifier [0x007D6A0A+565546]\n\tGetHandleVerifier [0x007D5680+560544]\n\tOrdinal0 [0x006D9A5C+1808988]\n\tOrdinal0 [0x006DE3A8+1827752]\n\tOrdinal0 [0x006DE495+1827989]\n\tOrdinal0 [0x006E80A4+1867940]\n\tBaseThreadInitThunk [0x76427BA9+25]\n\tRtlInitializeExceptionChain [0x775FBB3B+107]\n\tRtlClearBits [0x775FBABF+191]\n",
     "output_type": "error",
     "traceback": [
      "\u001b[1;31m---------------------------------------------------------------------------\u001b[0m",
      "\u001b[1;31mNoSuchElementException\u001b[0m                    Traceback (most recent call last)",
      "\u001b[1;32m~\\AppData\\Local\\Temp/ipykernel_768/3832657260.py\u001b[0m in \u001b[0;36m<module>\u001b[1;34m\u001b[0m\n\u001b[0;32m      1\u001b[0m \u001b[1;31m# Handling Pop ups\u001b[0m\u001b[1;33m\u001b[0m\u001b[1;33m\u001b[0m\u001b[0m\n\u001b[0;32m      2\u001b[0m \u001b[0mdriver\u001b[0m\u001b[1;33m.\u001b[0m\u001b[0mfind_element_by_xpath\u001b[0m\u001b[1;33m(\u001b[0m\u001b[1;34m'//*[@id=\"react-root\"]/section/main/div/div/div/div/button'\u001b[0m\u001b[1;33m)\u001b[0m\u001b[1;33m.\u001b[0m\u001b[0mclick\u001b[0m\u001b[1;33m(\u001b[0m\u001b[1;33m)\u001b[0m\u001b[1;33m\u001b[0m\u001b[1;33m\u001b[0m\u001b[0m\n\u001b[1;32m----> 3\u001b[1;33m \u001b[0mdriver\u001b[0m\u001b[1;33m.\u001b[0m\u001b[0mfind_element_by_xpath\u001b[0m\u001b[1;33m(\u001b[0m\u001b[1;34m'//*[@id=\"mount_0_0_3N\"]/div/div/div/div[2]/div/div/div[1]/div/div[2]/div/div/div/div/div[2]/div/div/div[3]/button[2]'\u001b[0m\u001b[1;33m)\u001b[0m\u001b[1;33m.\u001b[0m\u001b[0mclick\u001b[0m\u001b[1;33m(\u001b[0m\u001b[1;33m)\u001b[0m\u001b[1;33m\u001b[0m\u001b[1;33m\u001b[0m\u001b[0m\n\u001b[0m",
      "\u001b[1;32m~\\anaconda3\\lib\\site-packages\\selenium\\webdriver\\remote\\webdriver.py\u001b[0m in \u001b[0;36mfind_element_by_xpath\u001b[1;34m(self, xpath)\u001b[0m\n\u001b[0;32m    524\u001b[0m             \u001b[0mstacklevel\u001b[0m\u001b[1;33m=\u001b[0m\u001b[1;36m2\u001b[0m\u001b[1;33m,\u001b[0m\u001b[1;33m\u001b[0m\u001b[1;33m\u001b[0m\u001b[0m\n\u001b[0;32m    525\u001b[0m         )\n\u001b[1;32m--> 526\u001b[1;33m         \u001b[1;32mreturn\u001b[0m \u001b[0mself\u001b[0m\u001b[1;33m.\u001b[0m\u001b[0mfind_element\u001b[0m\u001b[1;33m(\u001b[0m\u001b[0mby\u001b[0m\u001b[1;33m=\u001b[0m\u001b[0mBy\u001b[0m\u001b[1;33m.\u001b[0m\u001b[0mXPATH\u001b[0m\u001b[1;33m,\u001b[0m \u001b[0mvalue\u001b[0m\u001b[1;33m=\u001b[0m\u001b[0mxpath\u001b[0m\u001b[1;33m)\u001b[0m\u001b[1;33m\u001b[0m\u001b[1;33m\u001b[0m\u001b[0m\n\u001b[0m\u001b[0;32m    527\u001b[0m \u001b[1;33m\u001b[0m\u001b[0m\n\u001b[0;32m    528\u001b[0m     \u001b[1;32mdef\u001b[0m \u001b[0mfind_elements_by_xpath\u001b[0m\u001b[1;33m(\u001b[0m\u001b[0mself\u001b[0m\u001b[1;33m,\u001b[0m \u001b[0mxpath\u001b[0m\u001b[1;33m)\u001b[0m \u001b[1;33m->\u001b[0m \u001b[0mList\u001b[0m\u001b[1;33m[\u001b[0m\u001b[0mWebElement\u001b[0m\u001b[1;33m]\u001b[0m\u001b[1;33m:\u001b[0m\u001b[1;33m\u001b[0m\u001b[1;33m\u001b[0m\u001b[0m\n",
      "\u001b[1;32m~\\anaconda3\\lib\\site-packages\\selenium\\webdriver\\remote\\webdriver.py\u001b[0m in \u001b[0;36mfind_element\u001b[1;34m(self, by, value)\u001b[0m\n\u001b[0;32m   1249\u001b[0m             \u001b[0mvalue\u001b[0m \u001b[1;33m=\u001b[0m \u001b[1;34m'[name=\"%s\"]'\u001b[0m \u001b[1;33m%\u001b[0m \u001b[0mvalue\u001b[0m\u001b[1;33m\u001b[0m\u001b[1;33m\u001b[0m\u001b[0m\n\u001b[0;32m   1250\u001b[0m \u001b[1;33m\u001b[0m\u001b[0m\n\u001b[1;32m-> 1251\u001b[1;33m         return self.execute(Command.FIND_ELEMENT, {\n\u001b[0m\u001b[0;32m   1252\u001b[0m             \u001b[1;34m'using'\u001b[0m\u001b[1;33m:\u001b[0m \u001b[0mby\u001b[0m\u001b[1;33m,\u001b[0m\u001b[1;33m\u001b[0m\u001b[1;33m\u001b[0m\u001b[0m\n\u001b[0;32m   1253\u001b[0m             'value': value})['value']\n",
      "\u001b[1;32m~\\anaconda3\\lib\\site-packages\\selenium\\webdriver\\remote\\webdriver.py\u001b[0m in \u001b[0;36mexecute\u001b[1;34m(self, driver_command, params)\u001b[0m\n\u001b[0;32m    428\u001b[0m         \u001b[0mresponse\u001b[0m \u001b[1;33m=\u001b[0m \u001b[0mself\u001b[0m\u001b[1;33m.\u001b[0m\u001b[0mcommand_executor\u001b[0m\u001b[1;33m.\u001b[0m\u001b[0mexecute\u001b[0m\u001b[1;33m(\u001b[0m\u001b[0mdriver_command\u001b[0m\u001b[1;33m,\u001b[0m \u001b[0mparams\u001b[0m\u001b[1;33m)\u001b[0m\u001b[1;33m\u001b[0m\u001b[1;33m\u001b[0m\u001b[0m\n\u001b[0;32m    429\u001b[0m         \u001b[1;32mif\u001b[0m \u001b[0mresponse\u001b[0m\u001b[1;33m:\u001b[0m\u001b[1;33m\u001b[0m\u001b[1;33m\u001b[0m\u001b[0m\n\u001b[1;32m--> 430\u001b[1;33m             \u001b[0mself\u001b[0m\u001b[1;33m.\u001b[0m\u001b[0merror_handler\u001b[0m\u001b[1;33m.\u001b[0m\u001b[0mcheck_response\u001b[0m\u001b[1;33m(\u001b[0m\u001b[0mresponse\u001b[0m\u001b[1;33m)\u001b[0m\u001b[1;33m\u001b[0m\u001b[1;33m\u001b[0m\u001b[0m\n\u001b[0m\u001b[0;32m    431\u001b[0m             response['value'] = self._unwrap_value(\n\u001b[0;32m    432\u001b[0m                 response.get('value', None))\n",
      "\u001b[1;32m~\\anaconda3\\lib\\site-packages\\selenium\\webdriver\\remote\\errorhandler.py\u001b[0m in \u001b[0;36mcheck_response\u001b[1;34m(self, response)\u001b[0m\n\u001b[0;32m    245\u001b[0m                 \u001b[0malert_text\u001b[0m \u001b[1;33m=\u001b[0m \u001b[0mvalue\u001b[0m\u001b[1;33m[\u001b[0m\u001b[1;34m'alert'\u001b[0m\u001b[1;33m]\u001b[0m\u001b[1;33m.\u001b[0m\u001b[0mget\u001b[0m\u001b[1;33m(\u001b[0m\u001b[1;34m'text'\u001b[0m\u001b[1;33m)\u001b[0m\u001b[1;33m\u001b[0m\u001b[1;33m\u001b[0m\u001b[0m\n\u001b[0;32m    246\u001b[0m             \u001b[1;32mraise\u001b[0m \u001b[0mexception_class\u001b[0m\u001b[1;33m(\u001b[0m\u001b[0mmessage\u001b[0m\u001b[1;33m,\u001b[0m \u001b[0mscreen\u001b[0m\u001b[1;33m,\u001b[0m \u001b[0mstacktrace\u001b[0m\u001b[1;33m,\u001b[0m \u001b[0malert_text\u001b[0m\u001b[1;33m)\u001b[0m  \u001b[1;31m# type: ignore[call-arg]  # mypy is not smart enough here\u001b[0m\u001b[1;33m\u001b[0m\u001b[1;33m\u001b[0m\u001b[0m\n\u001b[1;32m--> 247\u001b[1;33m         \u001b[1;32mraise\u001b[0m \u001b[0mexception_class\u001b[0m\u001b[1;33m(\u001b[0m\u001b[0mmessage\u001b[0m\u001b[1;33m,\u001b[0m \u001b[0mscreen\u001b[0m\u001b[1;33m,\u001b[0m \u001b[0mstacktrace\u001b[0m\u001b[1;33m)\u001b[0m\u001b[1;33m\u001b[0m\u001b[1;33m\u001b[0m\u001b[0m\n\u001b[0m\u001b[0;32m    248\u001b[0m \u001b[1;33m\u001b[0m\u001b[0m\n\u001b[0;32m    249\u001b[0m     \u001b[1;32mdef\u001b[0m \u001b[0m_value_or_default\u001b[0m\u001b[1;33m(\u001b[0m\u001b[0mself\u001b[0m\u001b[1;33m,\u001b[0m \u001b[0mobj\u001b[0m\u001b[1;33m:\u001b[0m \u001b[0mMapping\u001b[0m\u001b[1;33m[\u001b[0m\u001b[0m_KT\u001b[0m\u001b[1;33m,\u001b[0m \u001b[0m_VT\u001b[0m\u001b[1;33m]\u001b[0m\u001b[1;33m,\u001b[0m \u001b[0mkey\u001b[0m\u001b[1;33m:\u001b[0m \u001b[0m_KT\u001b[0m\u001b[1;33m,\u001b[0m \u001b[0mdefault\u001b[0m\u001b[1;33m:\u001b[0m \u001b[0m_VT\u001b[0m\u001b[1;33m)\u001b[0m \u001b[1;33m->\u001b[0m \u001b[0m_VT\u001b[0m\u001b[1;33m:\u001b[0m\u001b[1;33m\u001b[0m\u001b[1;33m\u001b[0m\u001b[0m\n",
      "\u001b[1;31mNoSuchElementException\u001b[0m: Message: no such element: Unable to locate element: {\"method\":\"xpath\",\"selector\":\"//*[@id=\"mount_0_0_3N\"]/div/div/div/div[2]/div/div/div[1]/div/div[2]/div/div/div/div/div[2]/div/div/div[3]/button[2]\"}\n  (Session info: chrome=105.0.5195.126)\nStacktrace:\nBacktrace:\n\tOrdinal0 [0x0073DF13+2219795]\n\tOrdinal0 [0x006D2841+1779777]\n\tOrdinal0 [0x005E423D+803389]\n\tOrdinal0 [0x00613025+995365]\n\tOrdinal0 [0x006131EB+995819]\n\tOrdinal0 [0x00640F52+1183570]\n\tOrdinal0 [0x0062E844+1108036]\n\tOrdinal0 [0x0063F192+1175954]\n\tOrdinal0 [0x0062E616+1107478]\n\tOrdinal0 [0x00607F89+950153]\n\tOrdinal0 [0x00608F56+954198]\n\tGetHandleVerifier [0x00A32CB2+3040210]\n\tGetHandleVerifier [0x00A22BB4+2974420]\n\tGetHandleVerifier [0x007D6A0A+565546]\n\tGetHandleVerifier [0x007D5680+560544]\n\tOrdinal0 [0x006D9A5C+1808988]\n\tOrdinal0 [0x006DE3A8+1827752]\n\tOrdinal0 [0x006DE495+1827989]\n\tOrdinal0 [0x006E80A4+1867940]\n\tBaseThreadInitThunk [0x76427BA9+25]\n\tRtlInitializeExceptionChain [0x775FBB3B+107]\n\tRtlClearBits [0x775FBABF+191]\n"
     ]
    }
   ],
   "source": [
    "# Handling Pop ups\n",
    "driver.find_element_by_xpath('//*[@id=\"react-root\"]/section/main/div/div/div/div/button').click()"
   ]
  },
  {
   "cell_type": "code",
   "execution_count": 18,
   "id": "309b233c",
   "metadata": {},
   "outputs": [],
   "source": [
    "driver.find_element_by_xpath('//*[@id=\"mount_0_0_dE\"]/div/div/div/div[2]/div/div/div[1]/div/div[2]/div/div/div/div/div[2]/div/div/div[3]/button[2]').click()"
   ]
  },
  {
   "cell_type": "markdown",
   "id": "f4cbfaaa",
   "metadata": {},
   "source": [
    "## 2. Type for “food” in search bar and print all the names of the Instagram Handles that are displayed in list after typing “food”"
   ]
  },
  {
   "cell_type": "code",
   "execution_count": 20,
   "id": "1ae4c9a6",
   "metadata": {},
   "outputs": [],
   "source": [
    "driver.find_element_by_xpath('//*[@id=\"mount_0_0_dE\"]/div/div/div/div[1]/div/div/div/div[1]/section/nav/div[2]/div/div/div[2]/input').send_keys('food')"
   ]
  },
  {
   "cell_type": "code",
   "execution_count": 38,
   "id": "4a47dcb9",
   "metadata": {
    "scrolled": true
   },
   "outputs": [
    {
     "name": "stdout",
     "output_type": "stream",
     "text": [
      "FOOD Finder\n",
      "kanpur food vlogs 13\n",
      "United Kingdom 🇬🇧 Travel | Hotels | Food | Tips\n",
      "Foodio Therapy\n",
      "Amar Sirohi\n",
      "Food Darzee\n",
      "Food\n",
      "FOOD IN ODISHA | Bhubaneswar\n",
      "Foodies of Bhubaneswar\n",
      "Germany 🇩🇪 Deutschland Travel | Hotels | Food\n",
      "foodieshamsi\n",
      "Indore Food Explorer™\n",
      "Healthy Food Addiction\n",
      "FOODGOD® FKA Jonathan Cheban\n",
      "FOOD VIDEOS\n",
      "ALBAIK® Food Systems Co.\n",
      "Poland 🇵🇱 Polska Travel | Hotels | Food | Tips\n",
      "Subhransu Sekhar\n",
      "Bhubaneswar Food Bloggers\n",
      "Thailand 🇹🇭 Travel | Hotels | Food | Tips\n",
      "Food Insider\n",
      "Food.com\n",
      "Ramshi\n",
      "Food Fusion\n",
      "foodhunter_sabu\n",
      "Love Food\n",
      "USA 🇺🇸 Travel | Hotels | Food | Tips\n",
      "Philippines 🇵🇭 Travel | Hotels | Food | Tips\n",
      "New York City 🗽 NYC Travel | Hotels | Food Tips\n",
      "Rosenacozinha /Gastronomia / Food Influence/Tour Gastronômico\n",
      "Bhubaneswar Food Blogger\n",
      "China 🇨🇳 Asia Travel | Hotels | Food | Tips\n",
      "Colombia 🇨🇴 Travel | Hotels | Food | Tips\n",
      "Sana (Food & Travel Blogger)\n",
      "Hong Kong 🇭🇰 香港 Travel | Hotels | Food | Tips\n",
      "Your Food Lab\n",
      "Paris France 🇫🇷 Travel | Hotels | Food | Tips\n",
      "Karan Dua\n",
      "Delicious Healthy Food\n",
      "Brussels, Belgium 🇧🇪 Travel | Hotels | Food\n",
      "Canada 🇨🇦 Travel | Hotels | Food | Tips 🍁\n",
      "Deena Ashraf | Food Explorer\n",
      "GoFood Indonesia\n",
      "FOODbible\n",
      "Mexico 🇲🇽 Travel | Hotels | Food | Tips\n",
      "iD Fresh Food\n",
      "Bong Eats—Kolkata food videos\n",
      "Food for the Hungry\n",
      "PEDIGREE Dog Food\n"
     ]
    }
   ],
   "source": [
    "# For Printing Profile Names\n",
    "from bs4 import BeautifulSoup\n",
    "data=BeautifulSoup(driver.page_source)\n",
    "ans=data.find(class_='_abnx _aeul')\n",
    "ans1=ans.find_all(class_='_aacl _aaco _aacu _aacy _aada')\n",
    "for i in ans1:\n",
    "    temp1=(i.string)\n",
    "    if temp1!= None:\n",
    "        print(temp1)"
   ]
  },
  {
   "cell_type": "markdown",
   "id": "2e316ddf",
   "metadata": {},
   "source": [
    "## 3. Searching and Opening a profile using Open profile of “So Delhi”"
   ]
  },
  {
   "cell_type": "code",
   "execution_count": 40,
   "id": "ed147d6d",
   "metadata": {},
   "outputs": [],
   "source": [
    "driver.find_element_by_xpath('//*[@id=\"mount_0_0_dE\"]/div/div/div/div[1]/div/div/div/div[1]/section/nav/div[2]/div/div/div[2]/div[2]').click()\n",
    "driver.find_element_by_xpath('//*[@id=\"mount_0_0_dE\"]/div/div/div/div[1]/div/div/div/div[1]/section/nav/div[2]/div/div/div[2]/input').send_keys('So Delhi')"
   ]
  },
  {
   "cell_type": "code",
   "execution_count": 41,
   "id": "99ea98cf",
   "metadata": {},
   "outputs": [],
   "source": [
    "driver.find_element_by_xpath('//*[@id=\"fa61b552db2e68\"]/div/div/div').click()"
   ]
  },
  {
   "cell_type": "markdown",
   "id": "f1c834be",
   "metadata": {},
   "source": [
    "## 4 .Follow/Unfollow given handle - \n",
    "### Open the Instagram Handle of “So Delhi”\n",
    "### Start following it. Print a message if you are already following\n",
    "### After following, unfollow the instagram handle. Print a message if you have already unfollowed"
   ]
  },
  {
   "cell_type": "code",
   "execution_count": 53,
   "id": "45bd2fa2",
   "metadata": {},
   "outputs": [
    {
     "name": "stdout",
     "output_type": "stream",
     "text": [
      "Followed\n"
     ]
    }
   ],
   "source": [
    "# Following\n",
    "driver.find_element_by_xpath('//*[@id=\"mount_0_0_dE\"]/div/div/div/div[1]/div/div/div/div[1]/section/main/div/header/section/div[1]/div[1]/div/div[2]/button').click()\n",
    "print('Followed')"
   ]
  },
  {
   "cell_type": "code",
   "execution_count": 54,
   "id": "cf773620",
   "metadata": {},
   "outputs": [
    {
     "name": "stdout",
     "output_type": "stream",
     "text": [
      "Unfollowed\n"
     ]
    }
   ],
   "source": [
    "# unfollow\n",
    "driver.find_element_by_xpath('//*[@id=\"mount_0_0_dE\"]/div/div/div/div[1]/div/div/div/div[1]/section/main/div/header/section/div[1]/div[1]/div/div[2]/button').click()\n",
    "driver.implicitly_wait(3)\n",
    "driver.find_element_by_xpath('//*[@id=\"mount_0_0_dE\"]/div/div/div/div[2]/div/div/div[1]/div/div[2]/div/div/div/div/div[2]/div/div/div[3]/button[1]').click()\n",
    "print('Unfollowed')"
   ]
  },
  {
   "cell_type": "markdown",
   "id": "bcc0b88d",
   "metadata": {},
   "source": [
    "## 5. Like/Unlike posts\n",
    "### Liking the top 30 posts of the ‘dilsefoodie'. Print message if you have already liked it.\n",
    "### Unliking the top 30 posts of the ‘dilsefoodie’. Print message if you have already unliked it."
   ]
  },
  {
   "cell_type": "code",
   "execution_count": 55,
   "id": "11d8f045",
   "metadata": {},
   "outputs": [],
   "source": [
    "driver.back()"
   ]
  },
  {
   "cell_type": "code",
   "execution_count": 57,
   "id": "9374f182",
   "metadata": {},
   "outputs": [],
   "source": [
    "driver.find_element_by_xpath('//*[@id=\"mount_0_0_dE\"]/div/div/div/div[1]/div/div/div/div[1]/section/nav/div[2]/div/div/div[2]/div[2]').click()\n",
    "driver.find_element_by_xpath('//*[@id=\"mount_0_0_dE\"]/div/div/div/div[1]/div/div/div/div[1]/section/nav/div[2]/div/div/div[2]/input').send_keys('dilsefoodie')"
   ]
  },
  {
   "cell_type": "code",
   "execution_count": 58,
   "id": "e56f5e92",
   "metadata": {},
   "outputs": [],
   "source": [
    "driver.find_element_by_xpath('//*[@id=\"f1493da8147a2d4\"]/div/div/div[1]').click()"
   ]
  },
  {
   "cell_type": "code",
   "execution_count": null,
   "id": "4c842b31",
   "metadata": {},
   "outputs": [],
   "source": [
    "for i in range(5):\n",
    "    driver.execute_script('window.scrollBy(0, 1000);')"
   ]
  },
  {
   "cell_type": "code",
   "execution_count": 89,
   "id": "6c729f0e",
   "metadata": {},
   "outputs": [],
   "source": [
    "# Liking the Posts\n",
    "driver.find_element_by_xpath('//*[@id=\"mount_0_0_dE\"]/div/div/div/div[1]/div/div/div/div[1]/section/main/div/div[3]/article/div[1]/div/div[3]/div[3]/a/div[1]/div[2]').click()"
   ]
  },
  {
   "cell_type": "code",
   "execution_count": 90,
   "id": "ea716af8",
   "metadata": {},
   "outputs": [],
   "source": [
    "driver.find_element_by_xpath('//*[@id=\"mount_0_0_dE\"]/div/div/div/div[2]/div/div/div[1]/div/div[3]/div/div/div/div/div[2]/div/article/div/div[2]/div/div/div[2]/section[1]/span[1]/button').click()"
   ]
  },
  {
   "cell_type": "code",
   "execution_count": 86,
   "id": "08024d5d",
   "metadata": {},
   "outputs": [],
   "source": [
    "driver.back()"
   ]
  },
  {
   "cell_type": "code",
   "execution_count": 95,
   "id": "19c489e4",
   "metadata": {
    "scrolled": true
   },
   "outputs": [
    {
     "name": "stdout",
     "output_type": "stream",
     "text": [
      "Liked\n",
      "Liked\n",
      "Liked\n",
      "Liked\n",
      "Liked\n",
      "Liked\n",
      "Liked\n",
      "Liked\n",
      "Liked\n",
      "Liked\n",
      "Liked\n",
      "Liked\n",
      "Liked\n",
      "Liked\n",
      "Liked\n",
      "Liked\n",
      "Liked\n",
      "Liked\n",
      "Liked\n",
      "Liked\n",
      "Liked\n",
      "Liked\n",
      "Liked\n",
      "Liked\n",
      "Liked\n",
      "Liked\n",
      "Liked\n",
      "Liked\n",
      "Liked\n",
      "Liked\n"
     ]
    }
   ],
   "source": [
    "# Liking of Posts\n",
    "for i in range(1,11):\n",
    "    path='//*[@id=\"mount_0_0_dE\"]/div/div/div/div[1]/div/div/div/div[1]/section/main/div/div[3]/article/div[1]/div/div['\n",
    "    path=path+str(i)+\"]/div[\"\n",
    "    for k in range(1,4):\n",
    "        temp=path+str(k)+']/a/div[1]/div[2]'\n",
    "        driver.find_element_by_xpath(temp).click()\n",
    "        driver.implicitly_wait(5)\n",
    "        driver.find_element_by_xpath('//*[@id=\"mount_0_0_dE\"]/div/div/div/div[2]/div/div/div[1]/div/div[3]/div/div/div/div/div[2]/div/article/div/div[2]/div/div/div[2]/section[1]/span[1]/button').click()\n",
    "        driver.find_element_by_xpath('//*[@id=\"mount_0_0_dE\"]/div/div/div/div[2]/div/div/div[1]/div/div[2]/div').click()\n",
    "        print(\"Liked\")\n",
    "        "
   ]
  },
  {
   "cell_type": "code",
   "execution_count": 96,
   "id": "34f23fe4",
   "metadata": {
    "scrolled": true
   },
   "outputs": [
    {
     "name": "stdout",
     "output_type": "stream",
     "text": [
      "Unliked\n",
      "Unliked\n",
      "Unliked\n",
      "Unliked\n",
      "Unliked\n",
      "Unliked\n",
      "Unliked\n",
      "Unliked\n",
      "Unliked\n",
      "Unliked\n",
      "Unliked\n",
      "Unliked\n",
      "Unliked\n",
      "Unliked\n",
      "Unliked\n",
      "Unliked\n",
      "Unliked\n",
      "Unliked\n",
      "Unliked\n",
      "Unliked\n",
      "Unliked\n",
      "Unliked\n",
      "Unliked\n",
      "Unliked\n",
      "Unliked\n",
      "Unliked\n",
      "Unliked\n",
      "Unliked\n",
      "Unliked\n",
      "Unliked\n"
     ]
    }
   ],
   "source": [
    "# Unliking of the posts\n",
    "for i in range(1,11):\n",
    "    path='//*[@id=\"mount_0_0_dE\"]/div/div/div/div[1]/div/div/div/div[1]/section/main/div/div[3]/article/div[1]/div/div['\n",
    "    path=path+str(i)+\"]/div[\"\n",
    "    for k in range(1,4):\n",
    "        temp=path+str(k)+']/a/div[1]/div[2]'\n",
    "        driver.find_element_by_xpath(temp).click()\n",
    "        driver.implicitly_wait(5)\n",
    "        driver.find_element_by_xpath('//*[@id=\"mount_0_0_dE\"]/div/div/div/div[2]/div/div/div[1]/div/div[3]/div/div/div/div/div[2]/div/article/div/div[2]/div/div/div[2]/section[1]/span[1]/button').click()\n",
    "        driver.find_element_by_xpath('//*[@id=\"mount_0_0_dE\"]/div/div/div/div[2]/div/div/div[1]/div/div[2]/div').click()\n",
    "        print(\"Unliked\")"
   ]
  },
  {
   "cell_type": "code",
   "execution_count": null,
   "id": "4b213c95",
   "metadata": {},
   "outputs": [],
   "source": []
  }
 ],
 "metadata": {
  "kernelspec": {
   "display_name": "Python 3 (ipykernel)",
   "language": "python",
   "name": "python3"
  },
  "language_info": {
   "codemirror_mode": {
    "name": "ipython",
    "version": 3
   },
   "file_extension": ".py",
   "mimetype": "text/x-python",
   "name": "python",
   "nbconvert_exporter": "python",
   "pygments_lexer": "ipython3",
   "version": "3.9.7"
  }
 },
 "nbformat": 4,
 "nbformat_minor": 5
}
