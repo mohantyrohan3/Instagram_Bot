{
 "cells": [
  {
   "cell_type": "markdown",
   "id": "6ee26770",
   "metadata": {},
   "source": [
    "# Instagram Bot"
   ]
  },
  {
   "cell_type": "code",
   "execution_count": 12,
   "id": "876bff9c",
   "metadata": {},
   "outputs": [],
   "source": [
    "# First opening Instagram\n",
    "\n",
    "from selenium import webdriver\n",
    "import warnings\n",
    "warnings.filterwarnings(\"ignore\", category=DeprecationWarning)\n",
    "\n",
    "\n",
    "driver=webdriver.Chrome(\"C:\\Webdriver Chrome\\chromedriver.exe\")\n",
    "driver.get('https://www.instagram.com/')"
   ]
  },
  {
   "cell_type": "markdown",
   "id": "6ca763d9",
   "metadata": {},
   "source": [
    "## 1. Login to your Instagram Handle"
   ]
  },
  {
   "cell_type": "code",
   "execution_count": 13,
   "id": "93b2d726",
   "metadata": {},
   "outputs": [],
   "source": [
    "driver.find_element_by_xpath('//*[@id=\"loginForm\"]/div/div[1]/div/label/input').send_keys('SAMPLE USERNAME')\n",
    "driver.find_element_by_xpath('//*[@id=\"loginForm\"]/div/div[2]/div/label/input').send_keys('SAMPLE PASSWORD')\n",
    "driver.find_element_by_xpath('//*[@id=\"loginForm\"]/div/div[3]/button').click()"
   ]
  },
  {
   "cell_type": "code",
   "execution_count": 15,
   "id": "f0c4402c",
   "metadata": {
    "collapsed": true
   },
   "outputs": [
    {
     "ename": "NoSuchElementException",
     "evalue": "Message: no such element: Unable to locate element: {\"method\":\"xpath\",\"selector\":\"//*[@id=\"mount_0_0_3N\"]/div/div/div/div[2]/div/div/div[1]/div/div[2]/div/div/div/div/div[2]/div/div/div[3]/button[2]\"}\n  (Session info: chrome=105.0.5195.126)\nStacktrace:\nBacktrace:\n\tOrdinal0 [0x0073DF13+2219795]\n\tOrdinal0 [0x006D2841+1779777]\n\tOrdinal0 [0x005E423D+803389]\n\tOrdinal0 [0x00613025+995365]\n\tOrdinal0 [0x006131EB+995819]\n\tOrdinal0 [0x00640F52+1183570]\n\tOrdinal0 [0x0062E844+1108036]\n\tOrdinal0 [0x0063F192+1175954]\n\tOrdinal0 [0x0062E616+1107478]\n\tOrdinal0 [0x00607F89+950153]\n\tOrdinal0 [0x00608F56+954198]\n\tGetHandleVerifier [0x00A32CB2+3040210]\n\tGetHandleVerifier [0x00A22BB4+2974420]\n\tGetHandleVerifier [0x007D6A0A+565546]\n\tGetHandleVerifier [0x007D5680+560544]\n\tOrdinal0 [0x006D9A5C+1808988]\n\tOrdinal0 [0x006DE3A8+1827752]\n\tOrdinal0 [0x006DE495+1827989]\n\tOrdinal0 [0x006E80A4+1867940]\n\tBaseThreadInitThunk [0x76427BA9+25]\n\tRtlInitializeExceptionChain [0x775FBB3B+107]\n\tRtlClearBits [0x775FBABF+191]\n",
     "output_type": "error",
     "traceback": [
      "\u001b[1;31m---------------------------------------------------------------------------\u001b[0m",
      "\u001b[1;31mNoSuchElementException\u001b[0m                    Traceback (most recent call last)",
      "\u001b[1;32m~\\AppData\\Local\\Temp/ipykernel_768/3832657260.py\u001b[0m in \u001b[0;36m<module>\u001b[1;34m\u001b[0m\n\u001b[0;32m      1\u001b[0m \u001b[1;31m# Handling Pop ups\u001b[0m\u001b[1;33m\u001b[0m\u001b[1;33m\u001b[0m\u001b[0m\n\u001b[0;32m      2\u001b[0m \u001b[0mdriver\u001b[0m\u001b[1;33m.\u001b[0m\u001b[0mfind_element_by_xpath\u001b[0m\u001b[1;33m(\u001b[0m\u001b[1;34m'//*[@id=\"react-root\"]/section/main/div/div/div/div/button'\u001b[0m\u001b[1;33m)\u001b[0m\u001b[1;33m.\u001b[0m\u001b[0mclick\u001b[0m\u001b[1;33m(\u001b[0m\u001b[1;33m)\u001b[0m\u001b[1;33m\u001b[0m\u001b[1;33m\u001b[0m\u001b[0m\n\u001b[1;32m----> 3\u001b[1;33m \u001b[0mdriver\u001b[0m\u001b[1;33m.\u001b[0m\u001b[0mfind_element_by_xpath\u001b[0m\u001b[1;33m(\u001b[0m\u001b[1;34m'//*[@id=\"mount_0_0_3N\"]/div/div/div/div[2]/div/div/div[1]/div/div[2]/div/div/div/div/div[2]/div/div/div[3]/button[2]'\u001b[0m\u001b[1;33m)\u001b[0m\u001b[1;33m.\u001b[0m\u001b[0mclick\u001b[0m\u001b[1;33m(\u001b[0m\u001b[1;33m)\u001b[0m\u001b[1;33m\u001b[0m\u001b[1;33m\u001b[0m\u001b[0m\n\u001b[0m",
      "\u001b[1;32m~\\anaconda3\\lib\\site-packages\\selenium\\webdriver\\remote\\webdriver.py\u001b[0m in \u001b[0;36mfind_element_by_xpath\u001b[1;34m(self, xpath)\u001b[0m\n\u001b[0;32m    524\u001b[0m             \u001b[0mstacklevel\u001b[0m\u001b[1;33m=\u001b[0m\u001b[1;36m2\u001b[0m\u001b[1;33m,\u001b[0m\u001b[1;33m\u001b[0m\u001b[1;33m\u001b[0m\u001b[0m\n\u001b[0;32m    525\u001b[0m         )\n\u001b[1;32m--> 526\u001b[1;33m         \u001b[1;32mreturn\u001b[0m \u001b[0mself\u001b[0m\u001b[1;33m.\u001b[0m\u001b[0mfind_element\u001b[0m\u001b[1;33m(\u001b[0m\u001b[0mby\u001b[0m\u001b[1;33m=\u001b[0m\u001b[0mBy\u001b[0m\u001b[1;33m.\u001b[0m\u001b[0mXPATH\u001b[0m\u001b[1;33m,\u001b[0m \u001b[0mvalue\u001b[0m\u001b[1;33m=\u001b[0m\u001b[0mxpath\u001b[0m\u001b[1;33m)\u001b[0m\u001b[1;33m\u001b[0m\u001b[1;33m\u001b[0m\u001b[0m\n\u001b[0m\u001b[0;32m    527\u001b[0m \u001b[1;33m\u001b[0m\u001b[0m\n\u001b[0;32m    528\u001b[0m     \u001b[1;32mdef\u001b[0m \u001b[0mfind_elements_by_xpath\u001b[0m\u001b[1;33m(\u001b[0m\u001b[0mself\u001b[0m\u001b[1;33m,\u001b[0m \u001b[0mxpath\u001b[0m\u001b[1;33m)\u001b[0m \u001b[1;33m->\u001b[0m \u001b[0mList\u001b[0m\u001b[1;33m[\u001b[0m\u001b[0mWebElement\u001b[0m\u001b[1;33m]\u001b[0m\u001b[1;33m:\u001b[0m\u001b[1;33m\u001b[0m\u001b[1;33m\u001b[0m\u001b[0m\n",
      "\u001b[1;32m~\\anaconda3\\lib\\site-packages\\selenium\\webdriver\\remote\\webdriver.py\u001b[0m in \u001b[0;36mfind_element\u001b[1;34m(self, by, value)\u001b[0m\n\u001b[0;32m   1249\u001b[0m             \u001b[0mvalue\u001b[0m \u001b[1;33m=\u001b[0m \u001b[1;34m'[name=\"%s\"]'\u001b[0m \u001b[1;33m%\u001b[0m \u001b[0mvalue\u001b[0m\u001b[1;33m\u001b[0m\u001b[1;33m\u001b[0m\u001b[0m\n\u001b[0;32m   1250\u001b[0m \u001b[1;33m\u001b[0m\u001b[0m\n\u001b[1;32m-> 1251\u001b[1;33m         return self.execute(Command.FIND_ELEMENT, {\n\u001b[0m\u001b[0;32m   1252\u001b[0m             \u001b[1;34m'using'\u001b[0m\u001b[1;33m:\u001b[0m \u001b[0mby\u001b[0m\u001b[1;33m,\u001b[0m\u001b[1;33m\u001b[0m\u001b[1;33m\u001b[0m\u001b[0m\n\u001b[0;32m   1253\u001b[0m             'value': value})['value']\n",
      "\u001b[1;32m~\\anaconda3\\lib\\site-packages\\selenium\\webdriver\\remote\\webdriver.py\u001b[0m in \u001b[0;36mexecute\u001b[1;34m(self, driver_command, params)\u001b[0m\n\u001b[0;32m    428\u001b[0m         \u001b[0mresponse\u001b[0m \u001b[1;33m=\u001b[0m \u001b[0mself\u001b[0m\u001b[1;33m.\u001b[0m\u001b[0mcommand_executor\u001b[0m\u001b[1;33m.\u001b[0m\u001b[0mexecute\u001b[0m\u001b[1;33m(\u001b[0m\u001b[0mdriver_command\u001b[0m\u001b[1;33m,\u001b[0m \u001b[0mparams\u001b[0m\u001b[1;33m)\u001b[0m\u001b[1;33m\u001b[0m\u001b[1;33m\u001b[0m\u001b[0m\n\u001b[0;32m    429\u001b[0m         \u001b[1;32mif\u001b[0m \u001b[0mresponse\u001b[0m\u001b[1;33m:\u001b[0m\u001b[1;33m\u001b[0m\u001b[1;33m\u001b[0m\u001b[0m\n\u001b[1;32m--> 430\u001b[1;33m             \u001b[0mself\u001b[0m\u001b[1;33m.\u001b[0m\u001b[0merror_handler\u001b[0m\u001b[1;33m.\u001b[0m\u001b[0mcheck_response\u001b[0m\u001b[1;33m(\u001b[0m\u001b[0mresponse\u001b[0m\u001b[1;33m)\u001b[0m\u001b[1;33m\u001b[0m\u001b[1;33m\u001b[0m\u001b[0m\n\u001b[0m\u001b[0;32m    431\u001b[0m             response['value'] = self._unwrap_value(\n\u001b[0;32m    432\u001b[0m                 response.get('value', None))\n",
      "\u001b[1;32m~\\anaconda3\\lib\\site-packages\\selenium\\webdriver\\remote\\errorhandler.py\u001b[0m in \u001b[0;36mcheck_response\u001b[1;34m(self, response)\u001b[0m\n\u001b[0;32m    245\u001b[0m                 \u001b[0malert_text\u001b[0m \u001b[1;33m=\u001b[0m \u001b[0mvalue\u001b[0m\u001b[1;33m[\u001b[0m\u001b[1;34m'alert'\u001b[0m\u001b[1;33m]\u001b[0m\u001b[1;33m.\u001b[0m\u001b[0mget\u001b[0m\u001b[1;33m(\u001b[0m\u001b[1;34m'text'\u001b[0m\u001b[1;33m)\u001b[0m\u001b[1;33m\u001b[0m\u001b[1;33m\u001b[0m\u001b[0m\n\u001b[0;32m    246\u001b[0m             \u001b[1;32mraise\u001b[0m \u001b[0mexception_class\u001b[0m\u001b[1;33m(\u001b[0m\u001b[0mmessage\u001b[0m\u001b[1;33m,\u001b[0m \u001b[0mscreen\u001b[0m\u001b[1;33m,\u001b[0m \u001b[0mstacktrace\u001b[0m\u001b[1;33m,\u001b[0m \u001b[0malert_text\u001b[0m\u001b[1;33m)\u001b[0m  \u001b[1;31m# type: ignore[call-arg]  # mypy is not smart enough here\u001b[0m\u001b[1;33m\u001b[0m\u001b[1;33m\u001b[0m\u001b[0m\n\u001b[1;32m--> 247\u001b[1;33m         \u001b[1;32mraise\u001b[0m \u001b[0mexception_class\u001b[0m\u001b[1;33m(\u001b[0m\u001b[0mmessage\u001b[0m\u001b[1;33m,\u001b[0m \u001b[0mscreen\u001b[0m\u001b[1;33m,\u001b[0m \u001b[0mstacktrace\u001b[0m\u001b[1;33m)\u001b[0m\u001b[1;33m\u001b[0m\u001b[1;33m\u001b[0m\u001b[0m\n\u001b[0m\u001b[0;32m    248\u001b[0m \u001b[1;33m\u001b[0m\u001b[0m\n\u001b[0;32m    249\u001b[0m     \u001b[1;32mdef\u001b[0m \u001b[0m_value_or_default\u001b[0m\u001b[1;33m(\u001b[0m\u001b[0mself\u001b[0m\u001b[1;33m,\u001b[0m \u001b[0mobj\u001b[0m\u001b[1;33m:\u001b[0m \u001b[0mMapping\u001b[0m\u001b[1;33m[\u001b[0m\u001b[0m_KT\u001b[0m\u001b[1;33m,\u001b[0m \u001b[0m_VT\u001b[0m\u001b[1;33m]\u001b[0m\u001b[1;33m,\u001b[0m \u001b[0mkey\u001b[0m\u001b[1;33m:\u001b[0m \u001b[0m_KT\u001b[0m\u001b[1;33m,\u001b[0m \u001b[0mdefault\u001b[0m\u001b[1;33m:\u001b[0m \u001b[0m_VT\u001b[0m\u001b[1;33m)\u001b[0m \u001b[1;33m->\u001b[0m \u001b[0m_VT\u001b[0m\u001b[1;33m:\u001b[0m\u001b[1;33m\u001b[0m\u001b[1;33m\u001b[0m\u001b[0m\n",
      "\u001b[1;31mNoSuchElementException\u001b[0m: Message: no such element: Unable to locate element: {\"method\":\"xpath\",\"selector\":\"//*[@id=\"mount_0_0_3N\"]/div/div/div/div[2]/div/div/div[1]/div/div[2]/div/div/div/div/div[2]/div/div/div[3]/button[2]\"}\n  (Session info: chrome=105.0.5195.126)\nStacktrace:\nBacktrace:\n\tOrdinal0 [0x0073DF13+2219795]\n\tOrdinal0 [0x006D2841+1779777]\n\tOrdinal0 [0x005E423D+803389]\n\tOrdinal0 [0x00613025+995365]\n\tOrdinal0 [0x006131EB+995819]\n\tOrdinal0 [0x00640F52+1183570]\n\tOrdinal0 [0x0062E844+1108036]\n\tOrdinal0 [0x0063F192+1175954]\n\tOrdinal0 [0x0062E616+1107478]\n\tOrdinal0 [0x00607F89+950153]\n\tOrdinal0 [0x00608F56+954198]\n\tGetHandleVerifier [0x00A32CB2+3040210]\n\tGetHandleVerifier [0x00A22BB4+2974420]\n\tGetHandleVerifier [0x007D6A0A+565546]\n\tGetHandleVerifier [0x007D5680+560544]\n\tOrdinal0 [0x006D9A5C+1808988]\n\tOrdinal0 [0x006DE3A8+1827752]\n\tOrdinal0 [0x006DE495+1827989]\n\tOrdinal0 [0x006E80A4+1867940]\n\tBaseThreadInitThunk [0x76427BA9+25]\n\tRtlInitializeExceptionChain [0x775FBB3B+107]\n\tRtlClearBits [0x775FBABF+191]\n"
     ]
    }
   ],
   "source": [
    "# Handling Pop ups\n",
    "driver.find_element_by_xpath('//*[@id=\"react-root\"]/section/main/div/div/div/div/button').click()"
   ]
  },
  {
   "cell_type": "code",
   "execution_count": 18,
   "id": "2b4956ba",
   "metadata": {},
   "outputs": [],
   "source": [
    "driver.find_element_by_xpath('//*[@id=\"mount_0_0_dE\"]/div/div/div/div[2]/div/div/div[1]/div/div[2]/div/div/div/div/div[2]/div/div/div[3]/button[2]').click()"
   ]
  },
  {
   "cell_type": "markdown",
   "id": "bfd891db",
   "metadata": {},
   "source": [
    "## 2. Type for “food” in search bar and print all the names of the Instagram Handles that are displayed in list after typing “food”"
   ]
  },
  {
   "cell_type": "code",
   "execution_count": 20,
   "id": "3a0694ff",
   "metadata": {},
   "outputs": [],
   "source": [
    "driver.find_element_by_xpath('//*[@id=\"mount_0_0_dE\"]/div/div/div/div[1]/div/div/div/div[1]/section/nav/div[2]/div/div/div[2]/input').send_keys('food')"
   ]
  },
  {
   "cell_type": "code",
   "execution_count": 38,
   "id": "9d094fa7",
   "metadata": {
    "scrolled": true
   },
   "outputs": [
    {
     "name": "stdout",
     "output_type": "stream",
     "text": [
      "FOOD Finder\n",
      "kanpur food vlogs 13\n",
      "United Kingdom 🇬🇧 Travel | Hotels | Food | Tips\n",
      "Foodio Therapy\n",
      "Amar Sirohi\n",
      "Food Darzee\n",
      "Food\n",
      "FOOD IN ODISHA | Bhubaneswar\n",
      "Foodies of Bhubaneswar\n",
      "Germany 🇩🇪 Deutschland Travel | Hotels | Food\n",
      "foodieshamsi\n",
      "Indore Food Explorer™\n",
      "Healthy Food Addiction\n",
      "FOODGOD® FKA Jonathan Cheban\n",
      "FOOD VIDEOS\n",
      "ALBAIK® Food Systems Co.\n",
      "Poland 🇵🇱 Polska Travel | Hotels | Food | Tips\n",
      "Subhransu Sekhar\n",
      "Bhubaneswar Food Bloggers\n",
      "Thailand 🇹🇭 Travel | Hotels | Food | Tips\n",
      "Food Insider\n",
      "Food.com\n",
      "Ramshi\n",
      "Food Fusion\n",
      "foodhunter_sabu\n",
      "Love Food\n",
      "USA 🇺🇸 Travel | Hotels | Food | Tips\n",
      "Philippines 🇵🇭 Travel | Hotels | Food | Tips\n",
      "New York City 🗽 NYC Travel | Hotels | Food Tips\n",
      "Rosenacozinha /Gastronomia / Food Influence/Tour Gastronômico\n",
      "Bhubaneswar Food Blogger\n",
      "China 🇨🇳 Asia Travel | Hotels | Food | Tips\n",
      "Colombia 🇨🇴 Travel | Hotels | Food | Tips\n",
      "Sana (Food & Travel Blogger)\n",
      "Hong Kong 🇭🇰 香港 Travel | Hotels | Food | Tips\n",
      "Your Food Lab\n",
      "Paris France 🇫🇷 Travel | Hotels | Food | Tips\n",
      "Karan Dua\n",
      "Delicious Healthy Food\n",
      "Brussels, Belgium 🇧🇪 Travel | Hotels | Food\n",
      "Canada 🇨🇦 Travel | Hotels | Food | Tips 🍁\n",
      "Deena Ashraf | Food Explorer\n",
      "GoFood Indonesia\n",
      "FOODbible\n",
      "Mexico 🇲🇽 Travel | Hotels | Food | Tips\n",
      "iD Fresh Food\n",
      "Bong Eats—Kolkata food videos\n",
      "Food for the Hungry\n",
      "PEDIGREE Dog Food\n"
     ]
    }
   ],
   "source": [
    "# For Printing Profile Names\n",
    "from bs4 import BeautifulSoup\n",
    "data=BeautifulSoup(driver.page_source)\n",
    "ans=data.find(class_='_abnx _aeul')\n",
    "ans1=ans.find_all(class_='_aacl _aaco _aacu _aacy _aada')\n",
    "for i in ans1:\n",
    "    temp1=(i.string)\n",
    "    if temp1!= None:\n",
    "        print(temp1)"
   ]
  },
  {
   "cell_type": "markdown",
   "id": "221d2eef",
   "metadata": {},
   "source": [
    "## 3. Searching and Opening a profile using Open profile of “So Delhi”"
   ]
  },
  {
   "cell_type": "code",
   "execution_count": 40,
   "id": "4d2e2b19",
   "metadata": {},
   "outputs": [],
   "source": [
    "driver.find_element_by_xpath('//*[@id=\"mount_0_0_dE\"]/div/div/div/div[1]/div/div/div/div[1]/section/nav/div[2]/div/div/div[2]/div[2]').click()\n",
    "driver.find_element_by_xpath('//*[@id=\"mount_0_0_dE\"]/div/div/div/div[1]/div/div/div/div[1]/section/nav/div[2]/div/div/div[2]/input').send_keys('So Delhi')"
   ]
  },
  {
   "cell_type": "code",
   "execution_count": 41,
   "id": "323c3d59",
   "metadata": {},
   "outputs": [],
   "source": [
    "driver.find_element_by_xpath('//*[@id=\"fa61b552db2e68\"]/div/div/div').click()"
   ]
  },
  {
   "cell_type": "markdown",
   "id": "25e1c8ef",
   "metadata": {},
   "source": [
    "## 4 .Follow/Unfollow given handle - \n",
    "### Open the Instagram Handle of “So Delhi”\n",
    "### Start following it. Print a message if you are already following\n",
    "### After following, unfollow the instagram handle. Print a message if you have already unfollowed"
   ]
  },
  {
   "cell_type": "code",
   "execution_count": 53,
   "id": "6b15444b",
   "metadata": {},
   "outputs": [
    {
     "name": "stdout",
     "output_type": "stream",
     "text": [
      "Followed\n"
     ]
    }
   ],
   "source": [
    "# Following\n",
    "driver.find_element_by_xpath('//*[@id=\"mount_0_0_dE\"]/div/div/div/div[1]/div/div/div/div[1]/section/main/div/header/section/div[1]/div[1]/div/div[2]/button').click()\n",
    "print('Followed')"
   ]
  },
  {
   "cell_type": "code",
   "execution_count": 54,
   "id": "4f9505f7",
   "metadata": {},
   "outputs": [
    {
     "name": "stdout",
     "output_type": "stream",
     "text": [
      "Unfollowed\n"
     ]
    }
   ],
   "source": [
    "# unfollow\n",
    "driver.find_element_by_xpath('//*[@id=\"mount_0_0_dE\"]/div/div/div/div[1]/div/div/div/div[1]/section/main/div/header/section/div[1]/div[1]/div/div[2]/button').click()\n",
    "driver.implicitly_wait(3)\n",
    "driver.find_element_by_xpath('//*[@id=\"mount_0_0_dE\"]/div/div/div/div[2]/div/div/div[1]/div/div[2]/div/div/div/div/div[2]/div/div/div[3]/button[1]').click()\n",
    "print('Unfollowed')"
   ]
  },
  {
   "cell_type": "markdown",
   "id": "9fc4c8a8",
   "metadata": {},
   "source": [
    "## 5. Like/Unlike posts\n",
    "### Liking the top 30 posts of the ‘dilsefoodie'. Print message if you have already liked it.\n",
    "### Unliking the top 30 posts of the ‘dilsefoodie’. Print message if you have already unliked it."
   ]
  },
  {
   "cell_type": "code",
   "execution_count": 55,
   "id": "077cf989",
   "metadata": {},
   "outputs": [],
   "source": [
    "driver.back()"
   ]
  },
  {
   "cell_type": "code",
   "execution_count": 57,
   "id": "c236e5f0",
   "metadata": {},
   "outputs": [],
   "source": [
    "driver.find_element_by_xpath('//*[@id=\"mount_0_0_dE\"]/div/div/div/div[1]/div/div/div/div[1]/section/nav/div[2]/div/div/div[2]/div[2]').click()\n",
    "driver.find_element_by_xpath('//*[@id=\"mount_0_0_dE\"]/div/div/div/div[1]/div/div/div/div[1]/section/nav/div[2]/div/div/div[2]/input').send_keys('dilsefoodie')"
   ]
  },
  {
   "cell_type": "code",
   "execution_count": 58,
   "id": "295bedb9",
   "metadata": {},
   "outputs": [],
   "source": [
    "driver.find_element_by_xpath('//*[@id=\"f1493da8147a2d4\"]/div/div/div[1]').click()"
   ]
  },
  {
   "cell_type": "code",
   "execution_count": null,
   "id": "4e9383d1",
   "metadata": {},
   "outputs": [],
   "source": [
    "for i in range(5):\n",
    "    driver.execute_script('window.scrollBy(0, 1000);')"
   ]
  },
  {
   "cell_type": "code",
   "execution_count": 89,
   "id": "06bde7fc",
   "metadata": {},
   "outputs": [],
   "source": [
    "# Liking the Posts\n",
    "driver.find_element_by_xpath('//*[@id=\"mount_0_0_dE\"]/div/div/div/div[1]/div/div/div/div[1]/section/main/div/div[3]/article/div[1]/div/div[3]/div[3]/a/div[1]/div[2]').click()"
   ]
  },
  {
   "cell_type": "code",
   "execution_count": 90,
   "id": "f3c53136",
   "metadata": {},
   "outputs": [],
   "source": [
    "driver.find_element_by_xpath('//*[@id=\"mount_0_0_dE\"]/div/div/div/div[2]/div/div/div[1]/div/div[3]/div/div/div/div/div[2]/div/article/div/div[2]/div/div/div[2]/section[1]/span[1]/button').click()"
   ]
  },
  {
   "cell_type": "code",
   "execution_count": 86,
   "id": "9e2012f4",
   "metadata": {},
   "outputs": [],
   "source": [
    "driver.back()"
   ]
  },
  {
   "cell_type": "code",
   "execution_count": 95,
   "id": "03b69e8c",
   "metadata": {
    "scrolled": true
   },
   "outputs": [
    {
     "name": "stdout",
     "output_type": "stream",
     "text": [
      "Liked\n",
      "Liked\n",
      "Liked\n",
      "Liked\n",
      "Liked\n",
      "Liked\n",
      "Liked\n",
      "Liked\n",
      "Liked\n",
      "Liked\n",
      "Liked\n",
      "Liked\n",
      "Liked\n",
      "Liked\n",
      "Liked\n",
      "Liked\n",
      "Liked\n",
      "Liked\n",
      "Liked\n",
      "Liked\n",
      "Liked\n",
      "Liked\n",
      "Liked\n",
      "Liked\n",
      "Liked\n",
      "Liked\n",
      "Liked\n",
      "Liked\n",
      "Liked\n",
      "Liked\n"
     ]
    }
   ],
   "source": [
    "# Liking of Posts\n",
    "for i in range(1,11):\n",
    "    path='//*[@id=\"mount_0_0_dE\"]/div/div/div/div[1]/div/div/div/div[1]/section/main/div/div[3]/article/div[1]/div/div['\n",
    "    path=path+str(i)+\"]/div[\"\n",
    "    for k in range(1,4):\n",
    "        temp=path+str(k)+']/a/div[1]/div[2]'\n",
    "        driver.find_element_by_xpath(temp).click()\n",
    "        driver.implicitly_wait(5)\n",
    "        driver.find_element_by_xpath('//*[@id=\"mount_0_0_dE\"]/div/div/div/div[2]/div/div/div[1]/div/div[3]/div/div/div/div/div[2]/div/article/div/div[2]/div/div/div[2]/section[1]/span[1]/button').click()\n",
    "        driver.find_element_by_xpath('//*[@id=\"mount_0_0_dE\"]/div/div/div/div[2]/div/div/div[1]/div/div[2]/div').click()\n",
    "        print(\"Liked\")\n",
    "        "
   ]
  },
  {
   "cell_type": "code",
   "execution_count": 96,
   "id": "4c13a5db",
   "metadata": {
    "scrolled": true
   },
   "outputs": [
    {
     "name": "stdout",
     "output_type": "stream",
     "text": [
      "Unliked\n",
      "Unliked\n",
      "Unliked\n",
      "Unliked\n",
      "Unliked\n",
      "Unliked\n",
      "Unliked\n",
      "Unliked\n",
      "Unliked\n",
      "Unliked\n",
      "Unliked\n",
      "Unliked\n",
      "Unliked\n",
      "Unliked\n",
      "Unliked\n",
      "Unliked\n",
      "Unliked\n",
      "Unliked\n",
      "Unliked\n",
      "Unliked\n",
      "Unliked\n",
      "Unliked\n",
      "Unliked\n",
      "Unliked\n",
      "Unliked\n",
      "Unliked\n",
      "Unliked\n",
      "Unliked\n",
      "Unliked\n",
      "Unliked\n"
     ]
    }
   ],
   "source": [
    "# Unliking of the posts\n",
    "for i in range(1,11):\n",
    "    path='//*[@id=\"mount_0_0_dE\"]/div/div/div/div[1]/div/div/div/div[1]/section/main/div/div[3]/article/div[1]/div/div['\n",
    "    path=path+str(i)+\"]/div[\"\n",
    "    for k in range(1,4):\n",
    "        temp=path+str(k)+']/a/div[1]/div[2]'\n",
    "        driver.find_element_by_xpath(temp).click()\n",
    "        driver.implicitly_wait(5)\n",
    "        driver.find_element_by_xpath('//*[@id=\"mount_0_0_dE\"]/div/div/div/div[2]/div/div/div[1]/div/div[3]/div/div/div/div/div[2]/div/article/div/div[2]/div/div/div[2]/section[1]/span[1]/button').click()\n",
    "        driver.find_element_by_xpath('//*[@id=\"mount_0_0_dE\"]/div/div/div/div[2]/div/div/div[1]/div/div[2]/div').click()\n",
    "        print(\"Unliked\")"
   ]
  },
  {
   "cell_type": "markdown",
   "id": "78cf22d7",
   "metadata": {},
   "source": [
    "## Extract list of followers\n",
    "### Extract the usernames of the first few followers of ‘foodtalkindia’ and ‘sodelhi’.\n",
    "### Now print all the followers of “foodtalkindia” that you are following but those who don’t follow you."
   ]
  },
  {
   "cell_type": "code",
   "execution_count": 113,
   "id": "f57d6c75",
   "metadata": {},
   "outputs": [],
   "source": [
    "driver.back()"
   ]
  },
  {
   "cell_type": "code",
   "execution_count": 100,
   "id": "eec06dc9",
   "metadata": {},
   "outputs": [],
   "source": [
    "driver.find_element_by_xpath('//*[@id=\"mount_0_0_dE\"]/div/div/div/div[1]/div/div/div/div[1]/section/nav/div[2]/div/div/div[2]/div[2]').click()\n",
    "driver.find_element_by_xpath('//*[@id=\"mount_0_0_dE\"]/div/div/div/div[1]/div/div/div/div[1]/section/nav/div[2]/div/div/div[2]/input').send_keys('foodtalkindia')"
   ]
  },
  {
   "cell_type": "code",
   "execution_count": 102,
   "id": "207e8eea",
   "metadata": {},
   "outputs": [],
   "source": [
    "driver.find_element_by_xpath('//*[@id=\"f359e8022d0574\"]/div/div/div[1]').click()\n"
   ]
  },
  {
   "cell_type": "code",
   "execution_count": 114,
   "id": "ceb71f86",
   "metadata": {},
   "outputs": [],
   "source": [
    "# Extracting usernames of foodtalkindia\n",
    "driver.find_element_by_xpath('//*[@id=\"mount_0_0_dE\"]/div/div/div/div[1]/div/div/div/div[1]/section/main/div/header/section/ul/li[2]/a/div').click()"
   ]
  },
  {
   "cell_type": "code",
   "execution_count": 112,
   "id": "19ff7894",
   "metadata": {},
   "outputs": [],
   "source": [
    "ans=driver.find_element_by_xpath('//*[@id=\"mount_0_0_dE\"]/div/div/div/div[2]/div/div/div[1]/div/div[2]/div/div/div/div/div[2]/div/div/div[2]/div[1]/div')"
   ]
  },
  {
   "cell_type": "code",
   "execution_count": 120,
   "id": "a1ef3387",
   "metadata": {
    "scrolled": true
   },
   "outputs": [
    {
     "name": "stdout",
     "output_type": "stream",
     "text": [
      "nehalswaroop27\n",
      "foodi_e2827\n",
      "productgraphybyvipin\n",
      "winitheash\n",
      "muskankajaria\n",
      "namrataakamath\n",
      "pranavdeepak\n",
      "vinoth.ram80\n",
      "whyneedmaps\n",
      "___mario___001\n",
      "abhishek__sn_____66\n",
      "saha_deepshikha7\n",
      "ttkthomsonthomas\n",
      "nihalahamed10\n",
      "_whiskybomb_\n",
      "sim_rajput.26\n",
      "fithackuniversity\n",
      "aparna.insta\n",
      "theignorantpanda\n",
      "theflavourvilla\n",
      "tenny0302\n",
      "vichuraj_1912\n",
      "sanadiwahab\n",
      "heyramkruthik\n",
      "pranvikhorya_\n",
      "_arshad_ansari_9\n",
      "samaarawhig\n",
      "mai_aditya_hoon\n",
      "_gayathri.j_\n",
      "None\n",
      "streetracer_372\n",
      "victory_shoot_agency\n",
      "a__surya.k\n",
      "nikhilyadav005\n",
      "hvk_______\n",
      "m_a_l_s_s\n",
      "tejashwinihiremani0007\n",
      "rd.yn322\n",
      "buckeedos\n",
      "shivanithakur369\n",
      "wat_a_burger\n",
      "ujjwal_kashyap_307\n",
      "aa_shish6231\n",
      "u_knowwho_i_am\n",
      "ayush.keshav\n",
      "febasabu\n",
      "_ghki_bbxb_1\n",
      "jaxs_joxs_\n",
      "moonsrika\n",
      "random_weirdness__\n",
      "ashique_shaji_\n",
      "chaithan_1262\n",
      "meenakshi_v10\n",
      "rkh.5\n",
      "r2anuradha\n",
      "anku___________143\n",
      "deepti._.cl\n",
      "onlyfoodblogger\n",
      "aditya_dharwal\n",
      "madhu_shetty27\n",
      "mrma.nishravat\n",
      "iamsantoshah\n",
      "alcographer\n",
      "_tan.ya04\n",
      "espresso_food_shots\n",
      "vighnesh.52\n",
      "_sukant.panigrahi\n",
      "senator.42\n",
      "girisssh_\n",
      "ady_bhandari1983\n",
      "ddraaibhaaraabdulbaaten\n",
      "lanisha.miranda\n",
      "samyu.chan\n",
      "riyasarkar3619\n",
      "pixelpanda\n",
      "pradipta_deka\n",
      "saesha_bakes\n",
      "kaustubh_ram\n",
      "madura_shetty\n",
      "ashish_nichani\n",
      "farazqureshi0786\n",
      "janni__qureshi\n",
      "pm.destroyer\n",
      "deepa_4o1\n",
      "manyagupta22\n",
      "aashurock0\n",
      "raaj_5519\n",
      "foodmylove_04\n",
      "rohanmangatt\n",
      "adiloggramer\n",
      "thvipinrajoria\n",
      "ahhhsheesh\n",
      "sujay_karinja\n",
      "chef_praveen_12\n",
      "gangayaduv\n",
      "badmashchaithu2\n"
     ]
    }
   ],
   "source": [
    "# Printing Followers\n",
    "data=BeautifulSoup(driver.page_source)\n",
    "ans=data.find_all(class_='_aap6 _aap7 _aap8')\n",
    "for i in ans:\n",
    "    print(i.string)"
   ]
  },
  {
   "cell_type": "code",
   "execution_count": 132,
   "id": "044be379",
   "metadata": {},
   "outputs": [],
   "source": [
    "driver.find_element_by_xpath('//*[@id=\"mount_0_0_dE\"]/div/div/div/div[1]/div/div/div/div[1]/section/nav/div[2]/div/div/div[3]/div/div[1]/div/a').click()"
   ]
  },
  {
   "cell_type": "code",
   "execution_count": 133,
   "id": "86dc047b",
   "metadata": {},
   "outputs": [],
   "source": [
    "# Extracting for sodelhi\\\n",
    "driver.find_element_by_xpath('//*[@id=\"mount_0_0_dE\"]/div/div/div/div[1]/div/div/div/div[1]/section/nav/div[2]/div/div/div[2]/div[1]/div').click()"
   ]
  },
  {
   "cell_type": "code",
   "execution_count": 134,
   "id": "7546158e",
   "metadata": {},
   "outputs": [],
   "source": [
    "driver.find_element_by_xpath('//*[@id=\"mount_0_0_dE\"]/div/div/div/div[1]/div/div/div/div[1]/section/nav/div[2]/div/div/div[2]/input').send_keys('sodelhi')"
   ]
  },
  {
   "cell_type": "code",
   "execution_count": 135,
   "id": "0cd7abce",
   "metadata": {},
   "outputs": [],
   "source": [
    "driver.find_element_by_xpath('//*[@id=\"f3e7a59a6c78d58\"]/div/div/div').click()"
   ]
  },
  {
   "cell_type": "code",
   "execution_count": 139,
   "id": "d257edc7",
   "metadata": {},
   "outputs": [],
   "source": [
    "driver.find_element_by_xpath('//*[@id=\"mount_0_0_o3\"]/div/div/div/div[1]/div/div/div/div[1]/section/main/div/header/section/ul/li[2]/a/div').click()"
   ]
  },
  {
   "cell_type": "code",
   "execution_count": 140,
   "id": "1362d131",
   "metadata": {},
   "outputs": [
    {
     "name": "stdout",
     "output_type": "stream",
     "text": [
      "reshmataneja9\n",
      "itz_arjun_kaahyap_\n",
      "makeovers.archana\n",
      "nevilia_w\n",
      "mohd_javed_2742\n",
      "shreya.ya.ya.ya\n",
      "kriti_khanna\n",
      "vickyphotoshop\n",
      "bhhumikaa.aaaa\n",
      "vidursirohii\n",
      "nikkipremila\n",
      "yashenderr\n",
      "saharan.neha\n",
      "gaganhanspal11\n",
      "radhikaaa.0909\n",
      "peace.dude25\n",
      "avisharma.19\n",
      "isaurabh_6\n",
      "sumalvika09\n",
      "dmarie_xxox\n",
      "timsi_bajaj\n",
      "prince_r9699\n",
      "rehankumar__\n",
      "nehrax._\n",
      "parity_sapre_bcone_emerd\n",
      "silent_screm\n",
      "jainmihir04\n",
      "rashal.ahuja\n",
      "globalfamilylife\n",
      "sheeshhh.pvtt\n",
      "abhinav.shriwas\n",
      "sahiilbajajj\n",
      "tanyajaiswal_27\n",
      "ankuamish\n",
      "miss__mahi_parmar7055\n",
      "pet_whisperer23\n",
      "frezapvt\n",
      "singh.akshayy\n",
      "chandan_ji15011994\n",
      "kirtisk\n",
      "vishwakarmalaksmi\n",
      "retiredwizard07\n",
      "priyawilson.22\n",
      "xplore_world0\n",
      "soni_yaksh_007\n",
      "_whiskybomb_\n",
      "nehagundiyaaa\n",
      "anand.aaa21\n",
      "sheshadri_roopa\n",
      "rahuljigrover1\n",
      "dr.kirtimehta\n",
      "__kunal_kb\n",
      "krishajain18\n",
      "_dhairyamishra\n",
      "kajal1684\n",
      "rxhulshaw\n",
      "abhishek.sharma.ggn\n",
      "manssinainwal\n",
      "dr.sahiba\n",
      "youthskillshp\n",
      "deepmala.batham\n",
      "meerra_guptaa\n",
      "surbhimittal7\n",
      "mohit_tandon001\n",
      "geetanshmehra22\n",
      "foodstagramm09\n",
      "shivaji.handa\n",
      "im_ishita97\n",
      "i__shhhh__u\n",
      "uditikanodia\n",
      "kishnaydv\n",
      "bikkisingh794\n",
      "totally.taelicious_\n",
      "singh_varsha_79\n",
      "su_bh_o_10\n",
      "manasizzz25\n",
      "arora.arohi107art\n",
      "ankitgupta__01\n",
      "rhea_varma14\n",
      "itz.me_himanshu\n",
      "foodieduo23\n",
      "forkhatriever\n",
      "_bad_and_classy\n",
      "rana.damini\n",
      "yaasu422\n",
      "azranaeem5\n",
      "bike_lover_484\n",
      "waquarkarim_\n",
      "pratikadp1217\n",
      "h22_chaudhary\n",
      "tasneem_fayaz\n",
      "ashneet_kohli\n",
      "_ashutosh937_\n",
      "mom_of_two_cuties\n",
      "aashi_khokhar05\n",
      "ayeeshaaanjum\n",
      "rashu_1104\n",
      "dixchita9845\n",
      "simransingh74_64\n",
      "its_aman9971\n",
      "dharampursonu\n",
      "kuberstudio.mumbai\n",
      "aagarwalnikita_\n",
      "shipra.rustagi\n",
      "akash_chaudhary.1\n",
      "kritikaaroraa_\n",
      "jyotsnaa.ahuja\n",
      "_sheena.bhatia_\n",
      "mahendru09\n",
      "_ananyapandey08\n",
      "sparklingsoul_dp\n",
      "aajyjanni\n",
      "saba__sasoli\n",
      "makeup_class19oct\n",
      "poopoonya\n",
      "pranvikhorya_\n",
      "nancyverma91\n",
      "krinalgala92\n",
      "janvi_purwar98\n",
      "mahi_singhal_50\n",
      "mariah_memon01\n",
      "pujamadraji698\n",
      "anchlk\n",
      "swati_navlani13\n",
      "khushi_destinyz_girl\n",
      "pradyummmm\n",
      "mr.mukhtalif\n",
      "kazim.13\n",
      "ashnoor_kaur_908\n",
      "huzaiffa10\n",
      "the_best_here2003\n",
      "som_singh\n",
      "i_m_sakshikhurana\n",
      "priyanka_nagpal_01\n",
      "tyagi_abhigyan\n",
      "mansidayal_\n",
      "ambermajid20\n",
      "poojachauhan.1996\n",
      "prince._.mourya\n",
      "beigh__bushra\n",
      "akagraguptaaa\n",
      "miss_bhasin\n",
      "mohitkasaundhan\n",
      "mridula_sharma12\n",
      "sunflawyer______\n",
      "browngirl_2918\n",
      "aishwerya_13\n",
      "nehasinghh08\n",
      "baja_j1881\n",
      "prekshakothari__\n",
      "kaushikishukla20\n",
      "shubdaa\n",
      "carzyking308\n",
      "aaks_aggarwal\n",
      "vaidehiparakh\n"
     ]
    }
   ],
   "source": [
    "# Printing the followers\n",
    "data=BeautifulSoup(driver.page_source)\n",
    "ans=data.find_all(class_='_aacl _aaco _aacw _aacx _aad7 _aade')\n",
    "for i in ans:\n",
    "    print(i.string)"
   ]
  },
  {
   "cell_type": "code",
   "execution_count": 141,
   "id": "4dbd220f",
   "metadata": {},
   "outputs": [],
   "source": [
    "driver.find_element_by_xpath('//*[@id=\"mount_0_0_o3\"]/div/div/div/div[2]/div/div/div[1]/div/div[2]/div/div/div/div/div[2]/div/div/div[1]/div/div[3]/div/button').click()"
   ]
  },
  {
   "cell_type": "code",
   "execution_count": 142,
   "id": "bb148eac",
   "metadata": {},
   "outputs": [],
   "source": [
    "driver.find_element_by_xpath('//*[@id=\"mount_0_0_o3\"]/div/div/div/div[1]/div/div/div/div[1]/section/nav/div[2]/div/div/div[3]/div/div[1]/div/a').click()"
   ]
  },
  {
   "cell_type": "markdown",
   "id": "017aa2cf",
   "metadata": {},
   "source": [
    "## Check the story of ‘coding.ninjas’."
   ]
  },
  {
   "cell_type": "code",
   "execution_count": 147,
   "id": "9855b5f2",
   "metadata": {},
   "outputs": [],
   "source": [
    "driver.find_element_by_xpath('//*[@id=\"mount_0_0_o3\"]/div/div/div/div[1]/div/div/div/div[1]/section/nav/div[2]/div/div/div[2]/div[1]/div/span').click()"
   ]
  },
  {
   "cell_type": "code",
   "execution_count": 148,
   "id": "d54d43a3",
   "metadata": {},
   "outputs": [],
   "source": [
    "driver.find_element_by_xpath('//*[@id=\"mount_0_0_o3\"]/div/div/div/div[1]/div/div/div/div[1]/section/nav/div[2]/div/div/div[2]/input').send_keys('coding.ninjas')"
   ]
  },
  {
   "cell_type": "code",
   "execution_count": 149,
   "id": "582b50e4",
   "metadata": {},
   "outputs": [],
   "source": [
    "driver.find_element_by_xpath('//*[@id=\"faef7dc6e68064\"]/div/div/div').click()"
   ]
  },
  {
   "cell_type": "code",
   "execution_count": 150,
   "id": "bd565396",
   "metadata": {},
   "outputs": [],
   "source": [
    "driver.find_element_by_xpath('//*[@id=\"mount_0_0_o3\"]/div/div/div/div[1]/div/div/div/div[1]/section/main/div/header/div/div/span').click()"
   ]
  }
 ],
 "metadata": {
  "kernelspec": {
   "display_name": "Python 3 (ipykernel)",
   "language": "python",
   "name": "python3"
  },
  "language_info": {
   "codemirror_mode": {
    "name": "ipython",
    "version": 3
   },
   "file_extension": ".py",
   "mimetype": "text/x-python",
   "name": "python",
   "nbconvert_exporter": "python",
   "pygments_lexer": "ipython3",
   "version": "3.9.7"
  }
 },
 "nbformat": 4,
 "nbformat_minor": 5
}
